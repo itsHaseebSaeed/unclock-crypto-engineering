{
 "cells": [
  {
   "cell_type": "markdown",
   "metadata": {},
   "source": [
    "# Data analysis workbook for the vigenere stuff"
   ]
  },
  {
   "cell_type": "code",
   "execution_count": 39,
   "metadata": {},
   "outputs": [],
   "source": [
    "import cbor2"
   ]
  },
  {
   "cell_type": "code",
   "execution_count": 40,
   "metadata": {},
   "outputs": [],
   "source": [
    "import scipy.stats"
   ]
  },
  {
   "cell_type": "markdown",
   "metadata": {},
   "source": [
    "I've copied a couple of files out of `../vigenere/target/criterion/data/` \n",
    "\n",
    "- `32early.cbor`, which is the timing run of `vigenere/benches/key_abc32.rs` using the key `012345a`\n",
    "- `32late.cbor`,  which is the timing run of `vigenere/benches/key_abc32.rs` using the key `tuvwxyz`\n",
    "\n",
    "Now I need to figure out how to handle them.\n",
    "\n",
    "Having run `python -m cbor2.tood -p 32early.cbor` on the command line, I see that what I will need to run a t-test is the list of times (in pico seconds?) in the `avg_values` list.\n",
    "\n",
    "Ok. Time to read the cbor2 docs"
   ]
  },
  {
   "cell_type": "markdown",
   "metadata": {},
   "source": [
    "I've never tried to read files from a notebook. I hope that file PATH's make sense"
   ]
  },
  {
   "cell_type": "code",
   "execution_count": 41,
   "metadata": {},
   "outputs": [],
   "source": [
    "EARLY_PATH = './32early.cbor'\n",
    "LATE_PATH = './32late.cbor'\n",
    "\n"
   ]
  },
  {
   "cell_type": "code",
   "execution_count": 61,
   "metadata": {},
   "outputs": [],
   "source": [
    "class Comparison:\n",
    "    def __init__(self, file1: str, file2: str, alternative=\"two-tailed\"):\n",
    "        valid_alternatives = [\"two-tailed\", \"less\", \"greater\"]\n",
    "        if alternative not in valid_alternatives:\n",
    "            raise ValueError(f'alternative must be one of {valid_alternatives}')\n",
    "        \n",
    "        self.alt = alternative # will pass to t-test\n",
    "\n",
    "        with open(file1, \"rb\") as f:\n",
    "            f1_data = cbor2.decoder.load(f)\n",
    "\n",
    "        with open(file2, \"rb\") as f:\n",
    "            f2_data = cbor2.decoder.load(f)\n",
    "\n",
    "        # Check whether these can be treated as related samples\n",
    "        self.related: bool\n",
    "        if f1_data[\"iterations\"] == f2_data[\"iterations\"]:\n",
    "            self.related = True\n",
    "        else:\n",
    "            self.related = False\n",
    "\n",
    "        self.f1_mean = f1_data[\"estimates\"][\"mean\"]\n",
    "        self.f2_main = f2_data[\"estimates\"][\"mean\"]\n",
    "\n",
    "        self.f1_values: list[float]\n",
    "        self.f2_values: list[float]\n",
    "        if self.related:\n",
    "            self.f1_values = f1_data[\"values\"]\n",
    "            self.f2_values = f2_data[\"values\"]\n",
    "        else:\n",
    "            self.f1_values = f1_data[\"avg_values\"]\n",
    "            self.f2_values = f2_data[\"avg_values\"]\n",
    "\n",
    "    def ttest(self) -> tuple[float, float]:\n",
    "        t: float\n",
    "        p: float\n",
    "        if self.related:\n",
    "            (t, p) = scipy.stats.ttest_rel(self.f1_values,\n",
    "                                self.f2_values,\n",
    "                                alternative=self.alt)\n",
    "        else:\n",
    "            (t, p) = scipy.stats.ttest_ind(self.f1_values,\n",
    "                                self.f2_values,\n",
    "                                alternative=self.alt)\n",
    "\n",
    "        return t, p\n",
    "\n"
   ]
  },
  {
   "cell_type": "code",
   "execution_count": 62,
   "metadata": {},
   "outputs": [],
   "source": [
    "comp32 = Comparison(EARLY_PATH, LATE_PATH, alternative=\"less\")"
   ]
  },
  {
   "cell_type": "code",
   "execution_count": 63,
   "metadata": {},
   "outputs": [
    {
     "data": {
      "text/plain": [
       "(-0.444293599052737, 0.3289000124091078)"
      ]
     },
     "execution_count": 63,
     "metadata": {},
     "output_type": "execute_result"
    }
   ],
   "source": [
    "comp32.ttest()"
   ]
  }
 ],
 "metadata": {
  "kernelspec": {
   "display_name": "Python 3.11.0 64-bit ('3.11.0')",
   "language": "python",
   "name": "python3"
  },
  "language_info": {
   "codemirror_mode": {
    "name": "ipython",
    "version": 3
   },
   "file_extension": ".py",
   "mimetype": "text/x-python",
   "name": "python",
   "nbconvert_exporter": "python",
   "pygments_lexer": "ipython3",
   "version": "3.11.0"
  },
  "orig_nbformat": 4,
  "vscode": {
   "interpreter": {
    "hash": "d6ae786fa75454602132e8d289048e0be1c6f00d5da38a85d27df0c8bd121e3c"
   }
  }
 },
 "nbformat": 4,
 "nbformat_minor": 2
}
