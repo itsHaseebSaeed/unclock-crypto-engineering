{
 "cells": [
  {
   "cell_type": "markdown",
   "metadata": {},
   "source": [
    "# Data analysis workbook for the vigenere stuff"
   ]
  },
  {
   "cell_type": "code",
   "execution_count": 1,
   "metadata": {},
   "outputs": [],
   "source": [
    "import cbor2"
   ]
  },
  {
   "cell_type": "code",
   "execution_count": 2,
   "metadata": {},
   "outputs": [],
   "source": [
    "import scipy.stats"
   ]
  },
  {
   "cell_type": "markdown",
   "metadata": {},
   "source": [
    "I've copied a couple of files out of `../vigenere/target/criterion/data/` \n",
    "\n",
    "- `32early.cbor`, which is the timing run of `vigenere/benches/key_abc32.rs` using the key `012345a`\n",
    "- `32late.cbor`,  which is the timing run of `vigenere/benches/key_abc32.rs` using the key `tuvwxyz`\n",
    "\n",
    "Now I need to figure out how to handle them.\n",
    "\n",
    "Having run `python -m cbor2.tood -p 32early.cbor` on the command line, I see that what I will need to run a t-test is the list of times (in pico seconds?) in the `avg_values` list.\n",
    "\n",
    "Ok. Time to read the cbor2 docs"
   ]
  },
  {
   "cell_type": "markdown",
   "metadata": {},
   "source": [
    "I've never tried to read files from a notebook. I hope that file PATH's make sense"
   ]
  },
  {
   "cell_type": "code",
   "execution_count": 3,
   "metadata": {},
   "outputs": [],
   "source": [
    "EARLY_PATH = './32early.cbor'\n",
    "LATE_PATH = './32late.cbor'\n",
    "\n",
    "with open(EARLY_PATH, 'rb') as fe:\n",
    "    early_data = cbor2.decoder.load(fe)"
   ]
  },
  {
   "cell_type": "markdown",
   "metadata": {},
   "source": [
    "Now I need to figure out what I have."
   ]
  },
  {
   "cell_type": "code",
   "execution_count": 3,
   "metadata": {},
   "outputs": [
    {
     "data": {
      "text/plain": [
       "dict"
      ]
     },
     "execution_count": 3,
     "metadata": {},
     "output_type": "execute_result"
    }
   ],
   "source": [
    "type(early_data)"
   ]
  },
  {
   "cell_type": "code",
   "execution_count": 4,
   "metadata": {},
   "outputs": [
    {
     "name": "stdout",
     "output_type": "stream",
     "text": [
      "dict_keys(['datetime', 'iterations', 'values', 'avg_values', 'estimates', 'throughput', 'changes', 'change_direction', 'history_id', 'history_description'])\n",
      "<class 'list'>\n",
      "[51081.25, 50266.65, 50691.666666666664, 50281.7625]\n"
     ]
    }
   ],
   "source": [
    "print(early_data.keys())\n",
    "print(type(early_data[\"avg_values\"]))\n",
    "\n",
    "print(early_data[\"avg_values\"][0:4])"
   ]
  },
  {
   "cell_type": "markdown",
   "metadata": {},
   "source": [
    "Cool. That is what I need."
   ]
  },
  {
   "cell_type": "code",
   "execution_count": 4,
   "metadata": {},
   "outputs": [
    {
     "name": "stdout",
     "output_type": "stream",
     "text": [
      "100\n"
     ]
    }
   ],
   "source": [
    "early_averages = early_data[\"avg_values\"]\n",
    "print(len(early_averages))"
   ]
  },
  {
   "cell_type": "code",
   "execution_count": 5,
   "metadata": {},
   "outputs": [
    {
     "data": {
      "text/plain": [
       "100"
      ]
     },
     "execution_count": 5,
     "metadata": {},
     "output_type": "execute_result"
    }
   ],
   "source": [
    "with open(LATE_PATH, 'rb') as fl:\n",
    "    late_data = cbor2.decoder.load(fl)\n",
    "\n",
    "late_averages = late_data[\"avg_values\"]\n",
    "len(late_averages)"
   ]
  },
  {
   "cell_type": "markdown",
   "metadata": {},
   "source": [
    "## Stats\n",
    "\n",
    "Now we start on statistical analysis"
   ]
  },
  {
   "cell_type": "code",
   "execution_count": 8,
   "metadata": {},
   "outputs": [
    {
     "name": "stdout",
     "output_type": "stream",
     "text": [
      "t is -0.526. p is 0.3\n"
     ]
    }
   ],
   "source": [
    "(t, p) = scipy.stats.ttest_ind(early_averages,\n",
    "                                late_averages,\n",
    "                                equal_var = True,\n",
    "                                alternative=\"less\")"
   ]
  },
  {
   "cell_type": "code",
   "execution_count": 9,
   "metadata": {},
   "outputs": [
    {
     "name": "stdout",
     "output_type": "stream",
     "text": [
      "t is -0.526. p is 0.300\n"
     ]
    }
   ],
   "source": [
    "print(f't is {t:#.3}. p is {p:#.3}')\n"
   ]
  },
  {
   "cell_type": "markdown",
   "metadata": {},
   "source": [
    "I high _p_ value, which we have, doesn't tell us that these are likely to have the same averages. It tells us that we can't rule out that they have the same averages. I hate _p_ values."
   ]
  }
 ],
 "metadata": {
  "kernelspec": {
   "display_name": "Python 3.11.0 64-bit ('3.11.0')",
   "language": "python",
   "name": "python3"
  },
  "language_info": {
   "codemirror_mode": {
    "name": "ipython",
    "version": 3
   },
   "file_extension": ".py",
   "mimetype": "text/x-python",
   "name": "python",
   "nbconvert_exporter": "python",
   "pygments_lexer": "ipython3",
   "version": "3.11.0"
  },
  "orig_nbformat": 4,
  "vscode": {
   "interpreter": {
    "hash": "d6ae786fa75454602132e8d289048e0be1c6f00d5da38a85d27df0c8bd121e3c"
   }
  }
 },
 "nbformat": 4,
 "nbformat_minor": 2
}
